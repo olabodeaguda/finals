{
 "cells": [
  {
   "cell_type": "code",
   "execution_count": 14,
   "id": "e14edea4",
   "metadata": {
    "_cell_guid": "b1076dfc-b9ad-4769-8c92-a6c4dae69d19",
    "_uuid": "8f2839f25d086af736a60e9eeb907d3b93b6e0e5",
    "execution": {
     "iopub.execute_input": "2022-09-01T21:12:41.618335Z",
     "iopub.status.busy": "2022-09-01T21:12:41.617959Z",
     "iopub.status.idle": "2022-09-01T21:12:41.648144Z",
     "shell.execute_reply": "2022-09-01T21:12:41.647122Z"
    },
    "papermill": {
     "duration": 0.043972,
     "end_time": "2022-09-01T21:12:41.651436",
     "exception": false,
     "start_time": "2022-09-01T21:12:41.607464",
     "status": "completed"
    },
    "tags": []
   },
   "outputs": [],
   "source": [
    "import numpy as np \n",
    "import pandas as pd \n",
    "%matplotlib inline\n",
    "from matplotlib import pyplot as plt\n",
    "from scipy import stats"
   ]
  },
  {
   "cell_type": "code",
   "execution_count": 15,
   "id": "b69b1926",
   "metadata": {
    "execution": {
     "iopub.execute_input": "2022-09-01T21:12:41.739262Z",
     "iopub.status.busy": "2022-09-01T21:12:41.738441Z",
     "iopub.status.idle": "2022-09-01T21:13:25.509387Z",
     "shell.execute_reply": "2022-09-01T21:13:25.507917Z"
    },
    "papermill": {
     "duration": 43.780807,
     "end_time": "2022-09-01T21:13:25.511046",
     "exception": false,
     "start_time": "2022-09-01T21:12:41.730239",
     "status": "completed"
    },
    "tags": []
   },
   "outputs": [
    {
     "name": "stderr",
     "output_type": "stream",
     "text": [
      "/var/folders/bj/1bm8_9hj23n5wy8n37g6dj_w0000gp/T/ipykernel_30381/3897337775.py:1: DtypeWarning: Columns (0,19,49,59,118,129,130,131,134,135,136,139,145,146,147) have mixed types. Specify dtype option on import or set low_memory=False.\n",
      "  loan = pd.read_csv('data/accepted_2007_to_2018Q4.csv.gz', compression='gzip', low_memory=True)\n"
     ]
    },
    {
     "name": "stdout",
     "output_type": "stream",
     "text": [
      "<class 'pandas.core.frame.DataFrame'>\n",
      "RangeIndex: 2260701 entries, 0 to 2260700\n",
      "Columns: 151 entries, id to settlement_term\n",
      "dtypes: float64(113), object(38)\n",
      "memory usage: 2.5+ GB\n"
     ]
    }
   ],
   "source": [
    "loan = pd.read_csv('data/accepted_2007_to_2018Q4.csv.gz', compression='gzip', low_memory=True)\n",
    "loan.info()"
   ]
  },
  {
   "cell_type": "code",
   "execution_count": 16,
   "id": "af757b2a",
   "metadata": {
    "execution": {
     "iopub.execute_input": "2022-09-01T21:13:25.527433Z",
     "iopub.status.busy": "2022-09-01T21:13:25.527101Z",
     "iopub.status.idle": "2022-09-01T21:13:25.540025Z",
     "shell.execute_reply": "2022-09-01T21:13:25.539047Z"
    },
    "papermill": {
     "duration": 0.0234,
     "end_time": "2022-09-01T21:13:25.542001",
     "exception": false,
     "start_time": "2022-09-01T21:13:25.518601",
     "status": "completed"
    },
    "tags": []
   },
   "outputs": [
    {
     "data": {
      "text/plain": [
       "(2260701, 151)"
      ]
     },
     "execution_count": 16,
     "metadata": {},
     "output_type": "execute_result"
    }
   ],
   "source": [
    "loan.shape"
   ]
  },
  {
   "cell_type": "code",
   "execution_count": 17,
   "id": "2be52187",
   "metadata": {
    "execution": {
     "iopub.execute_input": "2022-09-01T21:13:25.588860Z",
     "iopub.status.busy": "2022-09-01T21:13:25.588308Z",
     "iopub.status.idle": "2022-09-01T21:13:25.706048Z",
     "shell.execute_reply": "2022-09-01T21:13:25.705024Z"
    },
    "papermill": {
     "duration": 0.128767,
     "end_time": "2022-09-01T21:13:25.708354",
     "exception": false,
     "start_time": "2022-09-01T21:13:25.579587",
     "status": "completed"
    },
    "tags": []
   },
   "outputs": [],
   "source": [
    "#consider only business critical features\n",
    "loans = loan[['id', 'loan_amnt', 'term','int_rate', 'sub_grade', 'emp_length','grade', 'annual_inc', 'loan_status', 'dti',\n",
    "'mths_since_recent_inq', 'revol_util', 'bc_open_to_buy', 'bc_util', 'num_op_rev_tl']]"
   ]
  },
  {
   "cell_type": "code",
   "execution_count": 18,
   "id": "2c7ba71f",
   "metadata": {},
   "outputs": [
    {
     "data": {
      "text/html": [
       "<div>\n",
       "<style scoped>\n",
       "    .dataframe tbody tr th:only-of-type {\n",
       "        vertical-align: middle;\n",
       "    }\n",
       "\n",
       "    .dataframe tbody tr th {\n",
       "        vertical-align: top;\n",
       "    }\n",
       "\n",
       "    .dataframe thead th {\n",
       "        text-align: right;\n",
       "    }\n",
       "</style>\n",
       "<table border=\"1\" class=\"dataframe\">\n",
       "  <thead>\n",
       "    <tr style=\"text-align: right;\">\n",
       "      <th></th>\n",
       "      <th>loan_amnt</th>\n",
       "      <th>int_rate</th>\n",
       "      <th>annual_inc</th>\n",
       "      <th>dti</th>\n",
       "      <th>mths_since_recent_inq</th>\n",
       "      <th>revol_util</th>\n",
       "      <th>bc_open_to_buy</th>\n",
       "      <th>bc_util</th>\n",
       "      <th>num_op_rev_tl</th>\n",
       "    </tr>\n",
       "  </thead>\n",
       "  <tbody>\n",
       "    <tr>\n",
       "      <th>count</th>\n",
       "      <td>2.260668e+06</td>\n",
       "      <td>2.260668e+06</td>\n",
       "      <td>2.260664e+06</td>\n",
       "      <td>2.258957e+06</td>\n",
       "      <td>1.965233e+06</td>\n",
       "      <td>2.258866e+06</td>\n",
       "      <td>2.185733e+06</td>\n",
       "      <td>2.184597e+06</td>\n",
       "      <td>2.190392e+06</td>\n",
       "    </tr>\n",
       "    <tr>\n",
       "      <th>mean</th>\n",
       "      <td>1.504693e+04</td>\n",
       "      <td>1.309283e+01</td>\n",
       "      <td>7.799243e+04</td>\n",
       "      <td>1.882420e+01</td>\n",
       "      <td>7.024194e+00</td>\n",
       "      <td>5.033770e+01</td>\n",
       "      <td>1.139426e+04</td>\n",
       "      <td>5.789995e+01</td>\n",
       "      <td>8.246523e+00</td>\n",
       "    </tr>\n",
       "    <tr>\n",
       "      <th>std</th>\n",
       "      <td>9.190245e+03</td>\n",
       "      <td>4.832138e+00</td>\n",
       "      <td>1.126962e+05</td>\n",
       "      <td>1.418333e+01</td>\n",
       "      <td>5.965411e+00</td>\n",
       "      <td>2.471307e+01</td>\n",
       "      <td>1.659953e+04</td>\n",
       "      <td>2.858347e+01</td>\n",
       "      <td>4.683928e+00</td>\n",
       "    </tr>\n",
       "    <tr>\n",
       "      <th>min</th>\n",
       "      <td>5.000000e+02</td>\n",
       "      <td>5.310000e+00</td>\n",
       "      <td>0.000000e+00</td>\n",
       "      <td>-1.000000e+00</td>\n",
       "      <td>0.000000e+00</td>\n",
       "      <td>0.000000e+00</td>\n",
       "      <td>0.000000e+00</td>\n",
       "      <td>0.000000e+00</td>\n",
       "      <td>0.000000e+00</td>\n",
       "    </tr>\n",
       "    <tr>\n",
       "      <th>25%</th>\n",
       "      <td>8.000000e+03</td>\n",
       "      <td>9.490000e+00</td>\n",
       "      <td>4.600000e+04</td>\n",
       "      <td>1.189000e+01</td>\n",
       "      <td>2.000000e+00</td>\n",
       "      <td>3.150000e+01</td>\n",
       "      <td>1.722000e+03</td>\n",
       "      <td>3.540000e+01</td>\n",
       "      <td>5.000000e+00</td>\n",
       "    </tr>\n",
       "    <tr>\n",
       "      <th>50%</th>\n",
       "      <td>1.290000e+04</td>\n",
       "      <td>1.262000e+01</td>\n",
       "      <td>6.500000e+04</td>\n",
       "      <td>1.784000e+01</td>\n",
       "      <td>5.000000e+00</td>\n",
       "      <td>5.030000e+01</td>\n",
       "      <td>5.442000e+03</td>\n",
       "      <td>6.020000e+01</td>\n",
       "      <td>7.000000e+00</td>\n",
       "    </tr>\n",
       "    <tr>\n",
       "      <th>75%</th>\n",
       "      <td>2.000000e+04</td>\n",
       "      <td>1.599000e+01</td>\n",
       "      <td>9.300000e+04</td>\n",
       "      <td>2.449000e+01</td>\n",
       "      <td>1.100000e+01</td>\n",
       "      <td>6.940000e+01</td>\n",
       "      <td>1.418700e+04</td>\n",
       "      <td>8.310000e+01</td>\n",
       "      <td>1.000000e+01</td>\n",
       "    </tr>\n",
       "    <tr>\n",
       "      <th>max</th>\n",
       "      <td>4.000000e+04</td>\n",
       "      <td>3.099000e+01</td>\n",
       "      <td>1.100000e+08</td>\n",
       "      <td>9.990000e+02</td>\n",
       "      <td>2.500000e+01</td>\n",
       "      <td>8.923000e+02</td>\n",
       "      <td>7.111400e+05</td>\n",
       "      <td>3.396000e+02</td>\n",
       "      <td>9.100000e+01</td>\n",
       "    </tr>\n",
       "  </tbody>\n",
       "</table>\n",
       "</div>"
      ],
      "text/plain": [
       "          loan_amnt      int_rate    annual_inc           dti  \\\n",
       "count  2.260668e+06  2.260668e+06  2.260664e+06  2.258957e+06   \n",
       "mean   1.504693e+04  1.309283e+01  7.799243e+04  1.882420e+01   \n",
       "std    9.190245e+03  4.832138e+00  1.126962e+05  1.418333e+01   \n",
       "min    5.000000e+02  5.310000e+00  0.000000e+00 -1.000000e+00   \n",
       "25%    8.000000e+03  9.490000e+00  4.600000e+04  1.189000e+01   \n",
       "50%    1.290000e+04  1.262000e+01  6.500000e+04  1.784000e+01   \n",
       "75%    2.000000e+04  1.599000e+01  9.300000e+04  2.449000e+01   \n",
       "max    4.000000e+04  3.099000e+01  1.100000e+08  9.990000e+02   \n",
       "\n",
       "       mths_since_recent_inq    revol_util  bc_open_to_buy       bc_util  \\\n",
       "count           1.965233e+06  2.258866e+06    2.185733e+06  2.184597e+06   \n",
       "mean            7.024194e+00  5.033770e+01    1.139426e+04  5.789995e+01   \n",
       "std             5.965411e+00  2.471307e+01    1.659953e+04  2.858347e+01   \n",
       "min             0.000000e+00  0.000000e+00    0.000000e+00  0.000000e+00   \n",
       "25%             2.000000e+00  3.150000e+01    1.722000e+03  3.540000e+01   \n",
       "50%             5.000000e+00  5.030000e+01    5.442000e+03  6.020000e+01   \n",
       "75%             1.100000e+01  6.940000e+01    1.418700e+04  8.310000e+01   \n",
       "max             2.500000e+01  8.923000e+02    7.111400e+05  3.396000e+02   \n",
       "\n",
       "       num_op_rev_tl  \n",
       "count   2.190392e+06  \n",
       "mean    8.246523e+00  \n",
       "std     4.683928e+00  \n",
       "min     0.000000e+00  \n",
       "25%     5.000000e+00  \n",
       "50%     7.000000e+00  \n",
       "75%     1.000000e+01  \n",
       "max     9.100000e+01  "
      ]
     },
     "execution_count": 18,
     "metadata": {},
     "output_type": "execute_result"
    }
   ],
   "source": [
    "loans.describe()"
   ]
  },
  {
   "cell_type": "code",
   "execution_count": 19,
   "id": "73849563",
   "metadata": {
    "execution": {
     "iopub.execute_input": "2022-09-01T21:13:25.740589Z",
     "iopub.status.busy": "2022-09-01T21:13:25.739464Z",
     "iopub.status.idle": "2022-09-01T21:13:29.871250Z",
     "shell.execute_reply": "2022-09-01T21:13:29.870549Z"
    },
    "papermill": {
     "duration": 4.142562,
     "end_time": "2022-09-01T21:13:29.873324",
     "exception": false,
     "start_time": "2022-09-01T21:13:25.730762",
     "status": "completed"
    },
    "tags": []
   },
   "outputs": [],
   "source": [
    "#preprocessing\n",
    "\n",
    "#remove missing values\n",
    "loans = loans.dropna()\n",
    "\n",
    "#remove outliers\n",
    "q_low = loans[\"annual_inc\"].quantile(0.08)\n",
    "q_hi  = loans[\"annual_inc\"].quantile(0.92)\n",
    "loans = loans[(loans[\"annual_inc\"] < q_hi) & (loans[\"annual_inc\"] > q_low)]\n",
    "loans = loans[(loans['dti'] <=45)]\n",
    "q_hi  = loans['bc_open_to_buy'].quantile(0.95)\n",
    "loans = loans[(loans['bc_open_to_buy'] < q_hi)]\n",
    "loans = loans[(loans['bc_util'] <=160)]\n",
    "loans = loans[(loans['revol_util'] <=150)]\n",
    "loans = loans[(loans['num_op_rev_tl'] <=35)]\n",
    "\n",
    "#categorical features processing\n",
    "cleaner_app_type = {\"term\": {\" 36 months\": 1.0, \" 60 months\": 2.0},\n",
    "                    \"sub_grade\": {\"A1\": 1.0, \"A2\": 2.0, \"A3\": 3.0, \"A4\": 4.0, \"A5\": 5.0,\n",
    "                                  \"B1\": 11.0, \"B2\": 12.0, \"B3\": 13.0, \"B4\": 14.0, \"B5\": 15.0,\n",
    "                                  \"C1\": 21.0, \"C2\": 22.0, \"C3\": 23.0, \"C4\": 24.0, \"C5\": 25.0,\n",
    "                                  \"D1\": 31.0, \"D2\": 32.0, \"D3\": 33.0, \"D4\": 34.0, \"D5\": 35.0,\n",
    "                                  \"E1\": 41.0, \"E2\": 42.0, \"E3\": 43.0, \"E4\": 44.0, \"E5\": 45.0,\n",
    "                                  \"F1\": 51.0, \"F2\": 52.0, \"F3\": 53.0, \"F4\": 54.0, \"F5\": 55.0,\n",
    "                                  \"G1\": 61.0, \"G2\": 62.0, \"G3\": 63.0, \"G4\": 64.0, \"G5\": 65.0,\n",
    "                                    },\n",
    "                     \"emp_length\": {\"< 1 year\": 0.0, '1 year': 1.0, '2 years': 2.0, '3 years': 3.0, '4 years': 4.0, \n",
    "                                   '5 years': 5.0, '6 years': 6.0, '7 years': 7.0, '8 years': 8.0, '9 years': 9.0,\n",
    "                                   '10+ years': 10.0 }\n",
    "                   }\n",
    "loans = loans.replace(cleaner_app_type)"
   ]
  },
  {
   "cell_type": "code",
   "execution_count": 20,
   "id": "51bbca8f",
   "metadata": {
    "execution": {
     "iopub.execute_input": "2022-09-01T21:13:29.889854Z",
     "iopub.status.busy": "2022-09-01T21:13:29.888990Z",
     "iopub.status.idle": "2022-09-01T21:13:29.975574Z",
     "shell.execute_reply": "2022-09-01T21:13:29.973792Z"
    },
    "papermill": {
     "duration": 0.097067,
     "end_time": "2022-09-01T21:13:29.977760",
     "exception": false,
     "start_time": "2022-09-01T21:13:29.880693",
     "status": "completed"
    },
    "tags": []
   },
   "outputs": [],
   "source": [
    "loans = loans.drop('grade', axis=1)"
   ]
  },
  {
   "cell_type": "code",
   "execution_count": 21,
   "id": "d8ffef01",
   "metadata": {
    "execution": {
     "iopub.execute_input": "2022-09-01T21:13:29.994858Z",
     "iopub.status.busy": "2022-09-01T21:13:29.994057Z",
     "iopub.status.idle": "2022-09-01T21:13:30.078951Z",
     "shell.execute_reply": "2022-09-01T21:13:30.078023Z"
    },
    "papermill": {
     "duration": 0.095522,
     "end_time": "2022-09-01T21:13:30.080875",
     "exception": false,
     "start_time": "2022-09-01T21:13:29.985353",
     "status": "completed"
    },
    "tags": []
   },
   "outputs": [
    {
     "data": {
      "text/plain": [
       "Fully Paid            677985\n",
       "Current               529702\n",
       "Charged Off           177323\n",
       "Late (31-120 days)     14088\n",
       "In Grace Period         5583\n",
       "Late (16-30 days)       2743\n",
       "Default                   23\n",
       "Name: loan_status, dtype: int64"
      ]
     },
     "execution_count": 21,
     "metadata": {},
     "output_type": "execute_result"
    }
   ],
   "source": [
    "loans['loan_status'].value_counts()"
   ]
  },
  {
   "cell_type": "code",
   "execution_count": 22,
   "id": "69c0550c",
   "metadata": {
    "execution": {
     "iopub.execute_input": "2022-09-01T21:13:30.096186Z",
     "iopub.status.busy": "2022-09-01T21:13:30.095926Z",
     "iopub.status.idle": "2022-09-01T21:13:30.213799Z",
     "shell.execute_reply": "2022-09-01T21:13:30.212432Z"
    },
    "papermill": {
     "duration": 0.128203,
     "end_time": "2022-09-01T21:13:30.216343",
     "exception": false,
     "start_time": "2022-09-01T21:13:30.088140",
     "status": "completed"
    },
    "tags": []
   },
   "outputs": [],
   "source": [
    "array = ['Charged Off', 'Fully Paid']\n",
    "loans = loans.loc[loans['loan_status'].isin(array)]"
   ]
  },
  {
   "cell_type": "code",
   "execution_count": 23,
   "id": "253a88d7",
   "metadata": {
    "execution": {
     "iopub.execute_input": "2022-09-01T21:13:30.263614Z",
     "iopub.status.busy": "2022-09-01T21:13:30.263061Z",
     "iopub.status.idle": "2022-09-01T21:13:30.436663Z",
     "shell.execute_reply": "2022-09-01T21:13:30.435916Z"
    },
    "papermill": {
     "duration": 0.184185,
     "end_time": "2022-09-01T21:13:30.438752",
     "exception": false,
     "start_time": "2022-09-01T21:13:30.254567",
     "status": "completed"
    },
    "tags": []
   },
   "outputs": [],
   "source": [
    "cleaner_app_type1 = {\"loan_status\": { \"Fully Paid\": 1.0, \"Charged Off\": 0.0}}\n",
    "loans = loans.replace(cleaner_app_type1)"
   ]
  },
  {
   "cell_type": "code",
   "execution_count": 24,
   "id": "7e6d4ece",
   "metadata": {
    "execution": {
     "iopub.execute_input": "2022-09-01T21:13:30.455484Z",
     "iopub.status.busy": "2022-09-01T21:13:30.455141Z",
     "iopub.status.idle": "2022-09-01T21:13:31.669267Z",
     "shell.execute_reply": "2022-09-01T21:13:31.668172Z"
    },
    "papermill": {
     "duration": 1.224909,
     "end_time": "2022-09-01T21:13:31.671489",
     "exception": false,
     "start_time": "2022-09-01T21:13:30.446580",
     "status": "completed"
    },
    "tags": []
   },
   "outputs": [
    {
     "data": {
      "text/plain": [
       "array([ True,  True,  True,  True,  True,  True,  True,  True,  True,\n",
       "        True,  True,  True,  True,  True])"
      ]
     },
     "execution_count": 24,
     "metadata": {},
     "output_type": "execute_result"
    }
   ],
   "source": [
    "from sklearn.feature_selection import VarianceThreshold\n",
    "\n",
    "variance = VarianceThreshold(threshold = (.9 * (1 - .9)))\n",
    "variance.fit(loans)\n",
    "\n",
    "variance.get_support()"
   ]
  },
  {
   "cell_type": "code",
   "execution_count": 25,
   "id": "919ed0b0",
   "metadata": {
    "execution": {
     "iopub.execute_input": "2022-09-01T21:15:09.548606Z",
     "iopub.status.busy": "2022-09-01T21:15:09.548302Z",
     "iopub.status.idle": "2022-09-01T21:15:09.887101Z",
     "shell.execute_reply": "2022-09-01T21:15:09.886180Z"
    },
    "papermill": {
     "duration": 0.509237,
     "end_time": "2022-09-01T21:15:09.888840",
     "exception": false,
     "start_time": "2022-09-01T21:15:09.379603",
     "status": "completed"
    },
    "tags": []
   },
   "outputs": [
    {
     "name": "stderr",
     "output_type": "stream",
     "text": [
      "/var/folders/bj/1bm8_9hj23n5wy8n37g6dj_w0000gp/T/ipykernel_30381/4284642248.py:1: FutureWarning: The default value of numeric_only in DataFrame.corr is deprecated. In a future version, it will default to False. Select only valid columns or specify the value of numeric_only to silence this warning.\n",
      "  loans_cor=loans.corr()\n"
     ]
    },
    {
     "data": {
      "text/html": [
       "<div>\n",
       "<style scoped>\n",
       "    .dataframe tbody tr th:only-of-type {\n",
       "        vertical-align: middle;\n",
       "    }\n",
       "\n",
       "    .dataframe tbody tr th {\n",
       "        vertical-align: top;\n",
       "    }\n",
       "\n",
       "    .dataframe thead th {\n",
       "        text-align: right;\n",
       "    }\n",
       "</style>\n",
       "<table border=\"1\" class=\"dataframe\">\n",
       "  <thead>\n",
       "    <tr style=\"text-align: right;\">\n",
       "      <th></th>\n",
       "      <th>loan_amnt</th>\n",
       "      <th>term</th>\n",
       "      <th>int_rate</th>\n",
       "      <th>sub_grade</th>\n",
       "      <th>emp_length</th>\n",
       "      <th>annual_inc</th>\n",
       "      <th>loan_status</th>\n",
       "      <th>dti</th>\n",
       "      <th>mths_since_recent_inq</th>\n",
       "      <th>revol_util</th>\n",
       "      <th>bc_open_to_buy</th>\n",
       "      <th>bc_util</th>\n",
       "      <th>num_op_rev_tl</th>\n",
       "    </tr>\n",
       "  </thead>\n",
       "  <tbody>\n",
       "    <tr>\n",
       "      <th>loan_amnt</th>\n",
       "      <td>1.000000</td>\n",
       "      <td>0.397278</td>\n",
       "      <td>0.211851</td>\n",
       "      <td>0.216334</td>\n",
       "      <td>0.056998</td>\n",
       "      <td>0.381464</td>\n",
       "      <td>-0.099605</td>\n",
       "      <td>0.094921</td>\n",
       "      <td>0.023388</td>\n",
       "      <td>0.133704</td>\n",
       "      <td>0.155412</td>\n",
       "      <td>0.086327</td>\n",
       "      <td>0.136805</td>\n",
       "    </tr>\n",
       "    <tr>\n",
       "      <th>term</th>\n",
       "      <td>0.397278</td>\n",
       "      <td>1.000000</td>\n",
       "      <td>0.448837</td>\n",
       "      <td>0.465892</td>\n",
       "      <td>0.043918</td>\n",
       "      <td>0.071767</td>\n",
       "      <td>-0.192290</td>\n",
       "      <td>0.089984</td>\n",
       "      <td>-0.021508</td>\n",
       "      <td>0.066395</td>\n",
       "      <td>0.008934</td>\n",
       "      <td>0.053282</td>\n",
       "      <td>0.040339</td>\n",
       "    </tr>\n",
       "    <tr>\n",
       "      <th>int_rate</th>\n",
       "      <td>0.211851</td>\n",
       "      <td>0.448837</td>\n",
       "      <td>1.000000</td>\n",
       "      <td>0.971548</td>\n",
       "      <td>0.010474</td>\n",
       "      <td>-0.073835</td>\n",
       "      <td>-0.258134</td>\n",
       "      <td>0.165715</td>\n",
       "      <td>-0.179161</td>\n",
       "      <td>0.210137</td>\n",
       "      <td>-0.260253</td>\n",
       "      <td>0.219355</td>\n",
       "      <td>0.031369</td>\n",
       "    </tr>\n",
       "    <tr>\n",
       "      <th>sub_grade</th>\n",
       "      <td>0.216334</td>\n",
       "      <td>0.465892</td>\n",
       "      <td>0.971548</td>\n",
       "      <td>1.000000</td>\n",
       "      <td>0.010256</td>\n",
       "      <td>-0.074905</td>\n",
       "      <td>-0.268379</td>\n",
       "      <td>0.176446</td>\n",
       "      <td>-0.186694</td>\n",
       "      <td>0.213144</td>\n",
       "      <td>-0.268341</td>\n",
       "      <td>0.224586</td>\n",
       "      <td>0.035313</td>\n",
       "    </tr>\n",
       "    <tr>\n",
       "      <th>emp_length</th>\n",
       "      <td>0.056998</td>\n",
       "      <td>0.043918</td>\n",
       "      <td>0.010474</td>\n",
       "      <td>0.010256</td>\n",
       "      <td>1.000000</td>\n",
       "      <td>0.084716</td>\n",
       "      <td>0.011104</td>\n",
       "      <td>0.043357</td>\n",
       "      <td>0.004829</td>\n",
       "      <td>0.034749</td>\n",
       "      <td>0.002122</td>\n",
       "      <td>0.033137</td>\n",
       "      <td>0.100101</td>\n",
       "    </tr>\n",
       "    <tr>\n",
       "      <th>annual_inc</th>\n",
       "      <td>0.381464</td>\n",
       "      <td>0.071767</td>\n",
       "      <td>-0.073835</td>\n",
       "      <td>-0.074905</td>\n",
       "      <td>0.084716</td>\n",
       "      <td>1.000000</td>\n",
       "      <td>0.047735</td>\n",
       "      <td>-0.166957</td>\n",
       "      <td>-0.043641</td>\n",
       "      <td>0.085840</td>\n",
       "      <td>0.141571</td>\n",
       "      <td>0.036321</td>\n",
       "      <td>0.090483</td>\n",
       "    </tr>\n",
       "    <tr>\n",
       "      <th>loan_status</th>\n",
       "      <td>-0.099605</td>\n",
       "      <td>-0.192290</td>\n",
       "      <td>-0.258134</td>\n",
       "      <td>-0.268379</td>\n",
       "      <td>0.011104</td>\n",
       "      <td>0.047735</td>\n",
       "      <td>1.000000</td>\n",
       "      <td>-0.105084</td>\n",
       "      <td>0.059889</td>\n",
       "      <td>-0.052478</td>\n",
       "      <td>0.072511</td>\n",
       "      <td>-0.056164</td>\n",
       "      <td>-0.047156</td>\n",
       "    </tr>\n",
       "    <tr>\n",
       "      <th>dti</th>\n",
       "      <td>0.094921</td>\n",
       "      <td>0.089984</td>\n",
       "      <td>0.165715</td>\n",
       "      <td>0.176446</td>\n",
       "      <td>0.043357</td>\n",
       "      <td>-0.166957</td>\n",
       "      <td>-0.105084</td>\n",
       "      <td>1.000000</td>\n",
       "      <td>-0.009696</td>\n",
       "      <td>0.184675</td>\n",
       "      <td>-0.035349</td>\n",
       "      <td>0.185649</td>\n",
       "      <td>0.208789</td>\n",
       "    </tr>\n",
       "    <tr>\n",
       "      <th>mths_since_recent_inq</th>\n",
       "      <td>0.023388</td>\n",
       "      <td>-0.021508</td>\n",
       "      <td>-0.179161</td>\n",
       "      <td>-0.186694</td>\n",
       "      <td>0.004829</td>\n",
       "      <td>-0.043641</td>\n",
       "      <td>0.059889</td>\n",
       "      <td>-0.009696</td>\n",
       "      <td>1.000000</td>\n",
       "      <td>0.101606</td>\n",
       "      <td>-0.011960</td>\n",
       "      <td>0.087155</td>\n",
       "      <td>-0.090203</td>\n",
       "    </tr>\n",
       "    <tr>\n",
       "      <th>revol_util</th>\n",
       "      <td>0.133704</td>\n",
       "      <td>0.066395</td>\n",
       "      <td>0.210137</td>\n",
       "      <td>0.213144</td>\n",
       "      <td>0.034749</td>\n",
       "      <td>0.085840</td>\n",
       "      <td>-0.052478</td>\n",
       "      <td>0.184675</td>\n",
       "      <td>0.101606</td>\n",
       "      <td>1.000000</td>\n",
       "      <td>-0.520591</td>\n",
       "      <td>0.839585</td>\n",
       "      <td>-0.172055</td>\n",
       "    </tr>\n",
       "    <tr>\n",
       "      <th>bc_open_to_buy</th>\n",
       "      <td>0.155412</td>\n",
       "      <td>0.008934</td>\n",
       "      <td>-0.260253</td>\n",
       "      <td>-0.268341</td>\n",
       "      <td>0.002122</td>\n",
       "      <td>0.141571</td>\n",
       "      <td>0.072511</td>\n",
       "      <td>-0.035349</td>\n",
       "      <td>-0.011960</td>\n",
       "      <td>-0.520591</td>\n",
       "      <td>1.000000</td>\n",
       "      <td>-0.613378</td>\n",
       "      <td>0.293798</td>\n",
       "    </tr>\n",
       "    <tr>\n",
       "      <th>bc_util</th>\n",
       "      <td>0.086327</td>\n",
       "      <td>0.053282</td>\n",
       "      <td>0.219355</td>\n",
       "      <td>0.224586</td>\n",
       "      <td>0.033137</td>\n",
       "      <td>0.036321</td>\n",
       "      <td>-0.056164</td>\n",
       "      <td>0.185649</td>\n",
       "      <td>0.087155</td>\n",
       "      <td>0.839585</td>\n",
       "      <td>-0.613378</td>\n",
       "      <td>1.000000</td>\n",
       "      <td>-0.100506</td>\n",
       "    </tr>\n",
       "    <tr>\n",
       "      <th>num_op_rev_tl</th>\n",
       "      <td>0.136805</td>\n",
       "      <td>0.040339</td>\n",
       "      <td>0.031369</td>\n",
       "      <td>0.035313</td>\n",
       "      <td>0.100101</td>\n",
       "      <td>0.090483</td>\n",
       "      <td>-0.047156</td>\n",
       "      <td>0.208789</td>\n",
       "      <td>-0.090203</td>\n",
       "      <td>-0.172055</td>\n",
       "      <td>0.293798</td>\n",
       "      <td>-0.100506</td>\n",
       "      <td>1.000000</td>\n",
       "    </tr>\n",
       "  </tbody>\n",
       "</table>\n",
       "</div>"
      ],
      "text/plain": [
       "                       loan_amnt      term  int_rate  sub_grade  emp_length  \\\n",
       "loan_amnt               1.000000  0.397278  0.211851   0.216334    0.056998   \n",
       "term                    0.397278  1.000000  0.448837   0.465892    0.043918   \n",
       "int_rate                0.211851  0.448837  1.000000   0.971548    0.010474   \n",
       "sub_grade               0.216334  0.465892  0.971548   1.000000    0.010256   \n",
       "emp_length              0.056998  0.043918  0.010474   0.010256    1.000000   \n",
       "annual_inc              0.381464  0.071767 -0.073835  -0.074905    0.084716   \n",
       "loan_status            -0.099605 -0.192290 -0.258134  -0.268379    0.011104   \n",
       "dti                     0.094921  0.089984  0.165715   0.176446    0.043357   \n",
       "mths_since_recent_inq   0.023388 -0.021508 -0.179161  -0.186694    0.004829   \n",
       "revol_util              0.133704  0.066395  0.210137   0.213144    0.034749   \n",
       "bc_open_to_buy          0.155412  0.008934 -0.260253  -0.268341    0.002122   \n",
       "bc_util                 0.086327  0.053282  0.219355   0.224586    0.033137   \n",
       "num_op_rev_tl           0.136805  0.040339  0.031369   0.035313    0.100101   \n",
       "\n",
       "                       annual_inc  loan_status       dti  \\\n",
       "loan_amnt                0.381464    -0.099605  0.094921   \n",
       "term                     0.071767    -0.192290  0.089984   \n",
       "int_rate                -0.073835    -0.258134  0.165715   \n",
       "sub_grade               -0.074905    -0.268379  0.176446   \n",
       "emp_length               0.084716     0.011104  0.043357   \n",
       "annual_inc               1.000000     0.047735 -0.166957   \n",
       "loan_status              0.047735     1.000000 -0.105084   \n",
       "dti                     -0.166957    -0.105084  1.000000   \n",
       "mths_since_recent_inq   -0.043641     0.059889 -0.009696   \n",
       "revol_util               0.085840    -0.052478  0.184675   \n",
       "bc_open_to_buy           0.141571     0.072511 -0.035349   \n",
       "bc_util                  0.036321    -0.056164  0.185649   \n",
       "num_op_rev_tl            0.090483    -0.047156  0.208789   \n",
       "\n",
       "                       mths_since_recent_inq  revol_util  bc_open_to_buy  \\\n",
       "loan_amnt                           0.023388    0.133704        0.155412   \n",
       "term                               -0.021508    0.066395        0.008934   \n",
       "int_rate                           -0.179161    0.210137       -0.260253   \n",
       "sub_grade                          -0.186694    0.213144       -0.268341   \n",
       "emp_length                          0.004829    0.034749        0.002122   \n",
       "annual_inc                         -0.043641    0.085840        0.141571   \n",
       "loan_status                         0.059889   -0.052478        0.072511   \n",
       "dti                                -0.009696    0.184675       -0.035349   \n",
       "mths_since_recent_inq               1.000000    0.101606       -0.011960   \n",
       "revol_util                          0.101606    1.000000       -0.520591   \n",
       "bc_open_to_buy                     -0.011960   -0.520591        1.000000   \n",
       "bc_util                             0.087155    0.839585       -0.613378   \n",
       "num_op_rev_tl                      -0.090203   -0.172055        0.293798   \n",
       "\n",
       "                        bc_util  num_op_rev_tl  \n",
       "loan_amnt              0.086327       0.136805  \n",
       "term                   0.053282       0.040339  \n",
       "int_rate               0.219355       0.031369  \n",
       "sub_grade              0.224586       0.035313  \n",
       "emp_length             0.033137       0.100101  \n",
       "annual_inc             0.036321       0.090483  \n",
       "loan_status           -0.056164      -0.047156  \n",
       "dti                    0.185649       0.208789  \n",
       "mths_since_recent_inq  0.087155      -0.090203  \n",
       "revol_util             0.839585      -0.172055  \n",
       "bc_open_to_buy        -0.613378       0.293798  \n",
       "bc_util                1.000000      -0.100506  \n",
       "num_op_rev_tl         -0.100506       1.000000  "
      ]
     },
     "execution_count": 25,
     "metadata": {},
     "output_type": "execute_result"
    }
   ],
   "source": [
    "loans_cor=loans.corr()\n",
    "loans_cor"
   ]
  },
  {
   "cell_type": "code",
   "execution_count": 38,
   "id": "27e8a7d3",
   "metadata": {
    "execution": {
     "iopub.execute_input": "2022-09-01T21:15:10.229880Z",
     "iopub.status.busy": "2022-09-01T21:15:10.229537Z",
     "iopub.status.idle": "2022-09-01T21:15:10.952595Z",
     "shell.execute_reply": "2022-09-01T21:15:10.950907Z"
    },
    "papermill": {
     "duration": 0.897958,
     "end_time": "2022-09-01T21:15:10.954765",
     "exception": false,
     "start_time": "2022-09-01T21:15:10.056807",
     "status": "completed"
    },
    "tags": []
   },
   "outputs": [
    {
     "data": {
      "image/png": "[encoded data removed]",
      "text/plain": [
       "<Figure size 1200x800 with 2 Axes>"
      ]
     },
     "metadata": {},
     "output_type": "display_data"
    }
   ],
   "source": [
    "import seaborn as sns\n",
    "import matplotlib.pyplot as plt\n",
    "\n",
    "plt.figure(figsize=(12,8))\n",
    "sns.heatmap(loans_cor, cmap='coolwarm', annot=True, fmt='.1f', linewidths=.1)\n",
    "plt.show()"
   ]
  },
  {
   "cell_type": "code",
   "execution_count": 27,
   "id": "4282c0d8",
   "metadata": {
    "execution": {
     "iopub.execute_input": "2022-09-01T21:15:11.303106Z",
     "iopub.status.busy": "2022-09-01T21:15:11.302785Z",
     "iopub.status.idle": "2022-09-01T21:15:11.323040Z",
     "shell.execute_reply": "2022-09-01T21:15:11.321695Z"
    },
    "papermill": {
     "duration": 0.196044,
     "end_time": "2022-09-01T21:15:11.325169",
     "exception": false,
     "start_time": "2022-09-01T21:15:11.129125",
     "status": "completed"
    },
    "tags": []
   },
   "outputs": [
    {
     "data": {
      "text/plain": [
       "1.0    677985\n",
       "0.0    177323\n",
       "Name: loan_status, dtype: int64"
      ]
     },
     "execution_count": 27,
     "metadata": {},
     "output_type": "execute_result"
    }
   ],
   "source": [
    "loans['loan_status'].value_counts()"
   ]
  },
  {
   "cell_type": "code",
   "execution_count": 28,
   "id": "cfc9929a",
   "metadata": {
    "execution": {
     "iopub.execute_input": "2022-09-01T21:15:11.668080Z",
     "iopub.status.busy": "2022-09-01T21:15:11.667136Z",
     "iopub.status.idle": "2022-09-01T21:15:11.684747Z",
     "shell.execute_reply": "2022-09-01T21:15:11.684058Z"
    },
    "papermill": {
     "duration": 0.192816,
     "end_time": "2022-09-01T21:15:11.686792",
     "exception": false,
     "start_time": "2022-09-01T21:15:11.493976",
     "status": "completed"
    },
    "tags": []
   },
   "outputs": [],
   "source": [
    "\n",
    "loans = loans.drop('id', axis=1)"
   ]
  },
  {
   "cell_type": "code",
   "execution_count": 29,
   "id": "76f1753f",
   "metadata": {
    "execution": {
     "iopub.execute_input": "2022-09-01T21:15:12.377759Z",
     "iopub.status.busy": "2022-09-01T21:15:12.377086Z",
     "iopub.status.idle": "2022-09-01T21:15:12.840528Z",
     "shell.execute_reply": "2022-09-01T21:15:12.838896Z"
    },
    "papermill": {
     "duration": 0.646711,
     "end_time": "2022-09-01T21:15:12.842936",
     "exception": false,
     "start_time": "2022-09-01T21:15:12.196225",
     "status": "completed"
    },
    "tags": []
   },
   "outputs": [],
   "source": [
    "from sklearn.model_selection import train_test_split, RandomizedSearchCV\n",
    "from sklearn.linear_model import LogisticRegression\n",
    "from sklearn import metrics\n",
    "from sklearn.preprocessing import MinMaxScaler\n",
    "\n",
    "X = loans.drop('loan_status', axis=1)\n",
    "y = loans[['loan_status']]\n",
    "y = y.values.ravel()\n",
    "\n",
    "X_train, X_test, y_train, y_test = train_test_split(X, y, test_size=0.25, random_state=42, stratify=y)\n",
    "\n",
    "scaler = MinMaxScaler()\n",
    "X_train = scaler.fit_transform(X_train)\n",
    "X_test = scaler.transform(X_test)"
   ]
  },
  {
   "cell_type": "markdown",
   "id": "d584825a",
   "metadata": {
    "papermill": {
     "duration": 0.720641,
     "end_time": "2022-09-01T21:15:13.732281",
     "exception": false,
     "start_time": "2022-09-01T21:15:13.011640",
     "status": "completed"
    },
    "tags": []
   },
   "source": [
    "Next step is we are going to use SequentialFeatureSelector to find the \"best\" features:"
   ]
  },
  {
   "cell_type": "code",
   "execution_count": 30,
   "id": "c98e1a40",
   "metadata": {
    "execution": {
     "iopub.execute_input": "2022-09-01T21:15:14.073786Z",
     "iopub.status.busy": "2022-09-01T21:15:14.073114Z",
     "iopub.status.idle": "2022-09-01T21:15:14.102264Z",
     "shell.execute_reply": "2022-09-01T21:15:14.101234Z"
    },
    "papermill": {
     "duration": 0.205455,
     "end_time": "2022-09-01T21:15:14.104478",
     "exception": false,
     "start_time": "2022-09-01T21:15:13.899023",
     "status": "completed"
    },
    "tags": []
   },
   "outputs": [],
   "source": [
    "#importing the necessary libraries\n",
    "from mlxtend.feature_selection import SequentialFeatureSelector as SFS\n",
    "# Sequential Forward Selection(sfs)\n",
    "sfs = SFS(LogisticRegression(),\n",
    "          k_features='best',\n",
    "          forward=True,\n",
    "          floating=False,\n",
    "          scoring = 'precision',\n",
    "          cv = 0)"
   ]
  },
  {
   "cell_type": "markdown",
   "id": "0c89a038",
   "metadata": {
    "papermill": {
     "duration": 0.171245,
     "end_time": "2022-09-01T21:15:14.448325",
     "exception": false,
     "start_time": "2022-09-01T21:15:14.277080",
     "status": "completed"
    },
    "tags": []
   },
   "source": [
    "and we need to fit the above code to define feature selector on our loan dataset:"
   ]
  },
  {
   "cell_type": "code",
   "execution_count": 31,
   "id": "b0094836",
   "metadata": {
    "execution": {
     "iopub.execute_input": "2022-09-01T21:15:14.792127Z",
     "iopub.status.busy": "2022-09-01T21:15:14.791538Z",
     "iopub.status.idle": "2022-09-01T21:19:41.786000Z",
     "shell.execute_reply": "2022-09-01T21:19:41.783752Z"
    },
    "papermill": {
     "duration": 267.172034,
     "end_time": "2022-09-01T21:19:41.788543",
     "exception": false,
     "start_time": "2022-09-01T21:15:14.616509",
     "status": "completed"
    },
    "tags": []
   },
   "outputs": [
    {
     "name": "stderr",
     "output_type": "stream",
     "text": [
      "/Library/Frameworks/Python.framework/Versions/3.11/lib/python3.11/site-packages/sklearn/linear_model/_logistic.py:458: ConvergenceWarning: lbfgs failed to converge (status=1):\n",
      "STOP: TOTAL NO. of ITERATIONS REACHED LIMIT.\n",
      "\n",
      "Increase the number of iterations (max_iter) or scale the data as shown in:\n",
      "    https://scikit-learn.org/stable/modules/preprocessing.html\n",
      "Please also refer to the documentation for alternative solver options:\n",
      "    https://scikit-learn.org/stable/modules/linear_model.html#logistic-regression\n",
      "  n_iter_i = _check_optimize_result(\n",
      "/Library/Frameworks/Python.framework/Versions/3.11/lib/python3.11/site-packages/sklearn/linear_model/_logistic.py:458: ConvergenceWarning: lbfgs failed to converge (status=1):\n",
      "STOP: TOTAL NO. of ITERATIONS REACHED LIMIT.\n",
      "\n",
      "Increase the number of iterations (max_iter) or scale the data as shown in:\n",
      "    https://scikit-learn.org/stable/modules/preprocessing.html\n",
      "Please also refer to the documentation for alternative solver options:\n",
      "    https://scikit-learn.org/stable/modules/linear_model.html#logistic-regression\n",
      "  n_iter_i = _check_optimize_result(\n",
      "/Library/Frameworks/Python.framework/Versions/3.11/lib/python3.11/site-packages/sklearn/linear_model/_logistic.py:458: ConvergenceWarning: lbfgs failed to converge (status=1):\n",
      "STOP: TOTAL NO. of ITERATIONS REACHED LIMIT.\n",
      "\n",
      "Increase the number of iterations (max_iter) or scale the data as shown in:\n",
      "    https://scikit-learn.org/stable/modules/preprocessing.html\n",
      "Please also refer to the documentation for alternative solver options:\n",
      "    https://scikit-learn.org/stable/modules/linear_model.html#logistic-regression\n",
      "  n_iter_i = _check_optimize_result(\n",
      "/Library/Frameworks/Python.framework/Versions/3.11/lib/python3.11/site-packages/sklearn/linear_model/_logistic.py:458: ConvergenceWarning: lbfgs failed to converge (status=1):\n",
      "STOP: TOTAL NO. of ITERATIONS REACHED LIMIT.\n",
      "\n",
      "Increase the number of iterations (max_iter) or scale the data as shown in:\n",
      "    https://scikit-learn.org/stable/modules/preprocessing.html\n",
      "Please also refer to the documentation for alternative solver options:\n",
      "    https://scikit-learn.org/stable/modules/linear_model.html#logistic-regression\n",
      "  n_iter_i = _check_optimize_result(\n",
      "/Library/Frameworks/Python.framework/Versions/3.11/lib/python3.11/site-packages/sklearn/linear_model/_logistic.py:458: ConvergenceWarning: lbfgs failed to converge (status=1):\n",
      "STOP: TOTAL NO. of ITERATIONS REACHED LIMIT.\n",
      "\n",
      "Increase the number of iterations (max_iter) or scale the data as shown in:\n",
      "    https://scikit-learn.org/stable/modules/preprocessing.html\n",
      "Please also refer to the documentation for alternative solver options:\n",
      "    https://scikit-learn.org/stable/modules/linear_model.html#logistic-regression\n",
      "  n_iter_i = _check_optimize_result(\n",
      "/Library/Frameworks/Python.framework/Versions/3.11/lib/python3.11/site-packages/sklearn/linear_model/_logistic.py:458: ConvergenceWarning: lbfgs failed to converge (status=1):\n",
      "STOP: TOTAL NO. of ITERATIONS REACHED LIMIT.\n",
      "\n",
      "Increase the number of iterations (max_iter) or scale the data as shown in:\n",
      "    https://scikit-learn.org/stable/modules/preprocessing.html\n",
      "Please also refer to the documentation for alternative solver options:\n",
      "    https://scikit-learn.org/stable/modules/linear_model.html#logistic-regression\n",
      "  n_iter_i = _check_optimize_result(\n",
      "/Library/Frameworks/Python.framework/Versions/3.11/lib/python3.11/site-packages/sklearn/linear_model/_logistic.py:458: ConvergenceWarning: lbfgs failed to converge (status=1):\n",
      "STOP: TOTAL NO. of ITERATIONS REACHED LIMIT.\n",
      "\n",
      "Increase the number of iterations (max_iter) or scale the data as shown in:\n",
      "    https://scikit-learn.org/stable/modules/preprocessing.html\n",
      "Please also refer to the documentation for alternative solver options:\n",
      "    https://scikit-learn.org/stable/modules/linear_model.html#logistic-regression\n",
      "  n_iter_i = _check_optimize_result(\n",
      "/Library/Frameworks/Python.framework/Versions/3.11/lib/python3.11/site-packages/sklearn/linear_model/_logistic.py:458: ConvergenceWarning: lbfgs failed to converge (status=1):\n",
      "STOP: TOTAL NO. of ITERATIONS REACHED LIMIT.\n",
      "\n",
      "Increase the number of iterations (max_iter) or scale the data as shown in:\n",
      "    https://scikit-learn.org/stable/modules/preprocessing.html\n",
      "Please also refer to the documentation for alternative solver options:\n",
      "    https://scikit-learn.org/stable/modules/linear_model.html#logistic-regression\n",
      "  n_iter_i = _check_optimize_result(\n",
      "/Library/Frameworks/Python.framework/Versions/3.11/lib/python3.11/site-packages/sklearn/linear_model/_logistic.py:458: ConvergenceWarning: lbfgs failed to converge (status=1):\n",
      "STOP: TOTAL NO. of ITERATIONS REACHED LIMIT.\n",
      "\n",
      "Increase the number of iterations (max_iter) or scale the data as shown in:\n",
      "    https://scikit-learn.org/stable/modules/preprocessing.html\n",
      "Please also refer to the documentation for alternative solver options:\n",
      "    https://scikit-learn.org/stable/modules/linear_model.html#logistic-regression\n",
      "  n_iter_i = _check_optimize_result(\n",
      "/Library/Frameworks/Python.framework/Versions/3.11/lib/python3.11/site-packages/sklearn/linear_model/_logistic.py:458: ConvergenceWarning: lbfgs failed to converge (status=1):\n",
      "STOP: TOTAL NO. of ITERATIONS REACHED LIMIT.\n",
      "\n",
      "Increase the number of iterations (max_iter) or scale the data as shown in:\n",
      "    https://scikit-learn.org/stable/modules/preprocessing.html\n",
      "Please also refer to the documentation for alternative solver options:\n",
      "    https://scikit-learn.org/stable/modules/linear_model.html#logistic-regression\n",
      "  n_iter_i = _check_optimize_result(\n",
      "/Library/Frameworks/Python.framework/Versions/3.11/lib/python3.11/site-packages/sklearn/linear_model/_logistic.py:458: ConvergenceWarning: lbfgs failed to converge (status=1):\n",
      "STOP: TOTAL NO. of ITERATIONS REACHED LIMIT.\n",
      "\n",
      "Increase the number of iterations (max_iter) or scale the data as shown in:\n",
      "    https://scikit-learn.org/stable/modules/preprocessing.html\n",
      "Please also refer to the documentation for alternative solver options:\n",
      "    https://scikit-learn.org/stable/modules/linear_model.html#logistic-regression\n",
      "  n_iter_i = _check_optimize_result(\n",
      "/Library/Frameworks/Python.framework/Versions/3.11/lib/python3.11/site-packages/sklearn/linear_model/_logistic.py:458: ConvergenceWarning: lbfgs failed to converge (status=1):\n",
      "STOP: TOTAL NO. of ITERATIONS REACHED LIMIT.\n",
      "\n",
      "Increase the number of iterations (max_iter) or scale the data as shown in:\n",
      "    https://scikit-learn.org/stable/modules/preprocessing.html\n",
      "Please also refer to the documentation for alternative solver options:\n",
      "    https://scikit-learn.org/stable/modules/linear_model.html#logistic-regression\n",
      "  n_iter_i = _check_optimize_result(\n"
     ]
    },
    {
     "data": {
      "text/html": [
       "<style>#sk-container-id-1 {color: black;background-color: white;}#sk-container-id-1 pre{padding: 0;}#sk-container-id-1 div.sk-toggleable {background-color: white;}#sk-container-id-1 label.sk-toggleable__label {cursor: pointer;display: block;width: 100%;margin-bottom: 0;padding: 0.3em;box-sizing: border-box;text-align: center;}#sk-container-id-1 label.sk-toggleable__label-arrow:before {content: \"▸\";float: left;margin-right: 0.25em;color: #696969;}#sk-container-id-1 label.sk-toggleable__label-arrow:hover:before {color: black;}#sk-container-id-1 div.sk-estimator:hover label.sk-toggleable__label-arrow:before {color: black;}#sk-container-id-1 div.sk-toggleable__content {max-height: 0;max-width: 0;overflow: hidden;text-align: left;background-color: #f0f8ff;}#sk-container-id-1 div.sk-toggleable__content pre {margin: 0.2em;color: black;border-radius: 0.25em;background-color: #f0f8ff;}#sk-container-id-1 input.sk-toggleable__control:checked~div.sk-toggleable__content {max-height: 200px;max-width: 100%;overflow: auto;}#sk-container-id-1 input.sk-toggleable__control:checked~label.sk-toggleable__label-arrow:before {content: \"▾\";}#sk-container-id-1 div.sk-estimator input.sk-toggleable__control:checked~label.sk-toggleable__label {background-color: #d4ebff;}#sk-container-id-1 div.sk-label input.sk-toggleable__control:checked~label.sk-toggleable__label {background-color: #d4ebff;}#sk-container-id-1 input.sk-hidden--visually {border: 0;clip: rect(1px 1px 1px 1px);clip: rect(1px, 1px, 1px, 1px);height: 1px;margin: -1px;overflow: hidden;padding: 0;position: absolute;width: 1px;}#sk-container-id-1 div.sk-estimator {font-family: monospace;background-color: #f0f8ff;border: 1px dotted black;border-radius: 0.25em;box-sizing: border-box;margin-bottom: 0.5em;}#sk-container-id-1 div.sk-estimator:hover {background-color: #d4ebff;}#sk-container-id-1 div.sk-parallel-item::after {content: \"\";width: 100%;border-bottom: 1px solid gray;flex-grow: 1;}#sk-container-id-1 div.sk-label:hover label.sk-toggleable__label {background-color: #d4ebff;}#sk-container-id-1 div.sk-serial::before {content: \"\";position: absolute;border-left: 1px solid gray;box-sizing: border-box;top: 0;bottom: 0;left: 50%;z-index: 0;}#sk-container-id-1 div.sk-serial {display: flex;flex-direction: column;align-items: center;background-color: white;padding-right: 0.2em;padding-left: 0.2em;position: relative;}#sk-container-id-1 div.sk-item {position: relative;z-index: 1;}#sk-container-id-1 div.sk-parallel {display: flex;align-items: stretch;justify-content: center;background-color: white;position: relative;}#sk-container-id-1 div.sk-item::before, #sk-container-id-1 div.sk-parallel-item::before {content: \"\";position: absolute;border-left: 1px solid gray;box-sizing: border-box;top: 0;bottom: 0;left: 50%;z-index: -1;}#sk-container-id-1 div.sk-parallel-item {display: flex;flex-direction: column;z-index: 1;position: relative;background-color: white;}#sk-container-id-1 div.sk-parallel-item:first-child::after {align-self: flex-end;width: 50%;}#sk-container-id-1 div.sk-parallel-item:last-child::after {align-self: flex-start;width: 50%;}#sk-container-id-1 div.sk-parallel-item:only-child::after {width: 0;}#sk-container-id-1 div.sk-dashed-wrapped {border: 1px dashed gray;margin: 0 0.4em 0.5em 0.4em;box-sizing: border-box;padding-bottom: 0.4em;background-color: white;}#sk-container-id-1 div.sk-label label {font-family: monospace;font-weight: bold;display: inline-block;line-height: 1.2em;}#sk-container-id-1 div.sk-label-container {text-align: center;}#sk-container-id-1 div.sk-container {/* jupyter's `normalize.less` sets `[hidden] { display: none; }` but bootstrap.min.css set `[hidden] { display: none !important; }` so we also need the `!important` here to be able to override the default hidden behavior on the sphinx rendered scikit-learn.org. See: https://github.com/scikit-learn/scikit-learn/issues/21755 */display: inline-block !important;position: relative;}#sk-container-id-1 div.sk-text-repr-fallback {display: none;}</style><div id=\"sk-container-id-1\" class=\"sk-top-container\"><div class=\"sk-text-repr-fallback\"><pre>SequentialFeatureSelector(cv=0, estimator=LogisticRegression(),\n",
       "                          k_features=(1, 12), scoring=&#x27;precision&#x27;)</pre><b>In a Jupyter environment, please rerun this cell to show the HTML representation or trust the notebook. <br />On GitHub, the HTML representation is unable to render, please try loading this page with nbviewer.org.</b></div><div class=\"sk-container\" hidden><div class=\"sk-item sk-dashed-wrapped\"><div class=\"sk-label-container\"><div class=\"sk-label sk-toggleable\"><input class=\"sk-toggleable__control sk-hidden--visually\" id=\"sk-estimator-id-1\" type=\"checkbox\" ><label for=\"sk-estimator-id-1\" class=\"sk-toggleable__label sk-toggleable__label-arrow\">SequentialFeatureSelector</label><div class=\"sk-toggleable__content\"><pre>SequentialFeatureSelector(cv=0, estimator=LogisticRegression(),\n",
       "                          k_features=(1, 12), scoring=&#x27;precision&#x27;)</pre></div></div></div><div class=\"sk-parallel\"><div class=\"sk-parallel-item\"><div class=\"sk-item\"><div class=\"sk-label-container\"><div class=\"sk-label sk-toggleable\"><input class=\"sk-toggleable__control sk-hidden--visually\" id=\"sk-estimator-id-2\" type=\"checkbox\" ><label for=\"sk-estimator-id-2\" class=\"sk-toggleable__label sk-toggleable__label-arrow\">estimator: LogisticRegression</label><div class=\"sk-toggleable__content\"><pre>LogisticRegression()</pre></div></div></div><div class=\"sk-serial\"><div class=\"sk-item\"><div class=\"sk-estimator sk-toggleable\"><input class=\"sk-toggleable__control sk-hidden--visually\" id=\"sk-estimator-id-3\" type=\"checkbox\" ><label for=\"sk-estimator-id-3\" class=\"sk-toggleable__label sk-toggleable__label-arrow\">LogisticRegression</label><div class=\"sk-toggleable__content\"><pre>LogisticRegression()</pre></div></div></div></div></div></div></div></div></div></div>"
      ],
      "text/plain": [
       "SequentialFeatureSelector(cv=0, estimator=LogisticRegression(),\n",
       "                          k_features=(1, 12), scoring='precision')"
      ]
     },
     "execution_count": 31,
     "metadata": {},
     "output_type": "execute_result"
    }
   ],
   "source": [
    "sfs.fit(X, y)"
   ]
  },
  {
   "cell_type": "code",
   "execution_count": 32,
   "id": "bf84f79f",
   "metadata": {},
   "outputs": [
    {
     "data": {
      "text/plain": [
       "0.7934576394312536"
      ]
     },
     "execution_count": 32,
     "metadata": {},
     "output_type": "execute_result"
    }
   ],
   "source": [
    "from sklearn.preprocessing import MinMaxScaler\n",
    "from sklearn.linear_model import LogisticRegression, LinearRegression\n",
    "from sklearn.pipeline import Pipeline\n",
    "\n",
    "sc = MinMaxScaler()\n",
    "clf = LogisticRegression(penalty='l1', C=0.01, solver='liblinear')\n",
    "\n",
    "pipe_lr = Pipeline([('scaler', sc), ('clf', clf)])\n",
    "pipe_lr.fit(X_train, y_train)\n",
    "pipe_lr.score(X_train, y_train)"
   ]
  },
  {
   "cell_type": "code",
   "execution_count": 33,
   "id": "0c8bee39",
   "metadata": {},
   "outputs": [
    {
     "name": "stderr",
     "output_type": "stream",
     "text": [
      "/Library/Frameworks/Python.framework/Versions/3.11/lib/python3.11/site-packages/sklearn/cluster/_kmeans.py:870: FutureWarning: The default value of `n_init` will change from 10 to 'auto' in 1.4. Set the value of `n_init` explicitly to suppress the warning\n",
      "  warnings.warn(\n"
     ]
    },
    {
     "name": "stdout",
     "output_type": "stream",
     "text": [
      "accuracy  0.29460732274221685\n"
     ]
    }
   ],
   "source": [
    "\n",
    "from sklearn.cluster import KMeans\n",
    "from sklearn.metrics import accuracy_score\n",
    "\n",
    "\n",
    "model = KMeans(n_clusters=2, random_state=0)\n",
    "\n",
    "model.fit(X_train)\n",
    "\n",
    "predictions = model.predict(X_test)\n",
    "print('accuracy ', accuracy_score(y_test, predictions))"
   ]
  },
  {
   "cell_type": "markdown",
   "id": "607024b2",
   "metadata": {
    "papermill": {
     "duration": 0.178359,
     "end_time": "2022-09-01T21:19:42.141492",
     "exception": false,
     "start_time": "2022-09-01T21:19:41.963133",
     "status": "completed"
    },
    "tags": []
   },
   "source": [
    "We can see the selection process by comparing performance vs. the number of features in each training step. In addition, we can see that the chosem model metric does not change drastically during iteration steps."
   ]
  },
  {
   "cell_type": "code",
   "execution_count": 35,
   "id": "8db56e65",
   "metadata": {},
   "outputs": [
    {
     "name": "stdout",
     "output_type": "stream",
     "text": [
      "Accuracy  0.7903164707918083\n"
     ]
    }
   ],
   "source": [
    "from sklearn import neighbors, metrics\n",
    "\n",
    "knn = neighbors.KNeighborsClassifier(n_neighbors=30, weights='uniform')\n",
    "knn.fit(X_train, y_train)\n",
    "\n",
    "predictions = knn.predict(X_test)\n",
    "accuracy = metrics.accuracy_score(y_test, predictions)\n",
    "print('Accuracy ', accuracy)"
   ]
  },
  {
   "cell_type": "code",
   "execution_count": null,
   "id": "6acf47f6",
   "metadata": {
    "execution": {
     "iopub.execute_input": "2022-09-01T21:19:42.509638Z",
     "iopub.status.busy": "2022-09-01T21:19:42.509298Z",
     "iopub.status.idle": "2022-09-01T21:19:42.700057Z",
     "shell.execute_reply": "2022-09-01T21:19:42.698407Z"
    },
    "papermill": {
     "duration": 0.37047,
     "end_time": "2022-09-01T21:19:42.702251",
     "exception": false,
     "start_time": "2022-09-01T21:19:42.331781",
     "status": "completed"
    },
    "tags": []
   },
   "outputs": [
    {
     "name": "stderr",
     "output_type": "stream",
     "text": [
      "/Library/Frameworks/Python.framework/Versions/3.11/lib/python3.11/site-packages/numpy/core/_methods.py:265: RuntimeWarning: Degrees of freedom <= 0 for slice\n",
      "  ret = _var(a, axis=axis, dtype=dtype, out=out, ddof=ddof,\n",
      "/Library/Frameworks/Python.framework/Versions/3.11/lib/python3.11/site-packages/numpy/core/_methods.py:257: RuntimeWarning: invalid value encountered in double_scalars\n",
      "  ret = ret.dtype.type(ret / rcount)\n"
     ]
    },
    {
     "data": {
      "image/png": "[encoded data removed]",
      "text/plain": [
       "<Figure size 640x480 with 1 Axes>"
      ]
     },
     "metadata": {},
     "output_type": "display_data"
    }
   ],
   "source": [
    "from mlxtend.plotting import plot_sequential_feature_selection as plot_sfs\n",
    "import matplotlib.pyplot as plt\n",
    "fig1 = plot_sfs(sfs.get_metric_dict(), kind='std_dev')\n",
    "plt.title('Sequential Forward Selection')\n",
    "plt.grid()\n",
    "plt.show()"
   ]
  }
 ],
 "metadata": {
  "kernelspec": {
   "display_name": "Python 3",
   "language": "python",
   "name": "python3"
  },
  "language_info": {
   "codemirror_mode": {
    "name": "ipython",
    "version": 3
   },
   "file_extension": ".py",
   "mimetype": "text/x-python",
   "name": "python",
   "nbconvert_exporter": "python",
   "pygments_lexer": "ipython3",
   "version": "3.11.1"
  },
  "papermill": {
   "default_parameters": {},
   "duration": 432.444262,
   "end_time": "2022-09-01T21:19:46.062393",
   "environment_variables": {},
   "exception": null,
   "input_path": "__notebook__.ipynb",
   "output_path": "__notebook__.ipynb",
   "parameters": {},
   "start_time": "2022-09-01T21:12:33.618131",
   "version": "2.3.4"
  },
  "widgets": {
   "application/vnd.jupyter.widget-state+json": {
    "state": {
     "029e0fcc6b9a40019ec300c7dae8ae58": {
      "model_module": "@jupyter-widgets/controls",
      "model_module_version": "1.5.0",
      "model_name": "HTMLModel",
      "state": {
       "_dom_classes": [],
       "_model_module": "@jupyter-widgets/controls",
       "_model_module_version": "1.5.0",
       "_model_name": "HTMLModel",
       "_view_count": null,
       "_view_module": "@jupyter-widgets/controls",
       "_view_module_version": "1.5.0",
       "_view_name": "HTMLView",
       "description": "",
       "description_tooltip": null,
       "layout": "IPY_MODEL_7433e45670f44495a16f2ec0e280d5d1",
       "placeholder": "​",
       "style": "IPY_MODEL_2fe80da7a8ab49b7bf18f1ffa063af80",
       "value": " 172/172 [01:23&lt;00:00,  1.70it/s, Completed]"
      }
     },
     "15dacfe7ec274e30a4ca662723387f09": {
      "model_module": "@jupyter-widgets/controls",
      "model_module_version": "1.5.0",
      "model_name": "HBoxModel",
      "state": {
       "_dom_classes": [],
       "_model_module": "@jupyter-widgets/controls",
       "_model_module_version": "1.5.0",
       "_model_name": "HBoxModel",
       "_view_count": null,
       "_view_module": "@jupyter-widgets/controls",
       "_view_module_version": "1.5.0",
       "_view_name": "HBoxView",
       "box_style": "",
       "children": [
        "IPY_MODEL_3296c09f3dfd48bf82f2c41cc9c2c9dc",
        "IPY_MODEL_1d08e5b940d54b418f535dca5756f86d",
        "IPY_MODEL_79dffcc930f14e77a3122a50d5ba8b6b"
       ],
       "layout": "IPY_MODEL_825d94254e80487c87bacb564f0cb7db"
      }
     },
     "1d08e5b940d54b418f535dca5756f86d": {
      "model_module": "@jupyter-widgets/controls",
      "model_module_version": "1.5.0",
      "model_name": "FloatProgressModel",
      "state": {
       "_dom_classes": [],
       "_model_module": "@jupyter-widgets/controls",
       "_model_module_version": "1.5.0",
       "_model_name": "FloatProgressModel",
       "_view_count": null,
       "_view_module": "@jupyter-widgets/controls",
       "_view_module_version": "1.5.0",
       "_view_name": "ProgressView",
       "bar_style": "success",
       "description": "",
       "description_tooltip": null,
       "layout": "IPY_MODEL_5cc7e590793d4608a77af5862ad36f79",
       "max": 1,
       "min": 0,
       "orientation": "horizontal",
       "style": "IPY_MODEL_e0058d9212ce41028424dac4172c97e8",
       "value": 1
      }
     },
     "20af8e57c8f54432b78e0d34d87fb998": {
      "model_module": "@jupyter-widgets/controls",
      "model_module_version": "1.5.0",
      "model_name": "DescriptionStyleModel",
      "state": {
       "_model_module": "@jupyter-widgets/controls",
       "_model_module_version": "1.5.0",
       "_model_name": "DescriptionStyleModel",
       "_view_count": null,
       "_view_module": "@jupyter-widgets/base",
       "_view_module_version": "1.2.0",
       "_view_name": "StyleView",
       "description_width": ""
      }
     },
     "2fe80da7a8ab49b7bf18f1ffa063af80": {
      "model_module": "@jupyter-widgets/controls",
      "model_module_version": "1.5.0",
      "model_name": "DescriptionStyleModel",
      "state": {
       "_model_module": "@jupyter-widgets/controls",
       "_model_module_version": "1.5.0",
       "_model_name": "DescriptionStyleModel",
       "_view_count": null,
       "_view_module": "@jupyter-widgets/base",
       "_view_module_version": "1.2.0",
       "_view_name": "StyleView",
       "description_width": ""
      }
     },
     "3296c09f3dfd48bf82f2c41cc9c2c9dc": {
      "model_module": "@jupyter-widgets/controls",
      "model_module_version": "1.5.0",
      "model_name": "HTMLModel",
      "state": {
       "_dom_classes": [],
       "_model_module": "@jupyter-widgets/controls",
       "_model_module_version": "1.5.0",
       "_model_name": "HTMLModel",
       "_view_count": null,
       "_view_module": "@jupyter-widgets/controls",
       "_view_module_version": "1.5.0",
       "_view_name": "HTMLView",
       "description": "",
       "description_tooltip": null,
       "layout": "IPY_MODEL_b33043c92b2443669b814cf0101bcf5b",
       "placeholder": "​",
       "style": "IPY_MODEL_8101154a482742fe8edf311ec8f922c4",
       "value": "Render HTML: 100%"
      }
     },
     "3cf4ada435f743e49390107f603721da": {
      "model_module": "@jupyter-widgets/base",
      "model_module_version": "1.2.0",
      "model_name": "LayoutModel",
      "state": {
       "_model_module": "@jupyter-widgets/base",
       "_model_module_version": "1.2.0",
       "_model_name": "LayoutModel",
       "_view_count": null,
       "_view_module": "@jupyter-widgets/base",
       "_view_module_version": "1.2.0",
       "_view_name": "LayoutView",
       "align_content": null,
       "align_items": null,
       "align_self": null,
       "border": null,
       "bottom": null,
       "display": null,
       "flex": null,
       "flex_flow": null,
       "grid_area": null,
       "grid_auto_columns": null,
       "grid_auto_flow": null,
       "grid_auto_rows": null,
       "grid_column": null,
       "grid_gap": null,
       "grid_row": null,
       "grid_template_areas": null,
       "grid_template_columns": null,
       "grid_template_rows": null,
       "height": null,
       "justify_content": null,
       "justify_items": null,
       "left": null,
       "margin": null,
       "max_height": null,
       "max_width": null,
       "min_height": null,
       "min_width": null,
       "object_fit": null,
       "object_position": null,
       "order": null,
       "overflow": null,
       "overflow_x": null,
       "overflow_y": null,
       "padding": null,
       "right": null,
       "top": null,
       "visibility": null,
       "width": null
      }
     },
     "50981b93e04b4763b8d4f27ec833e2b1": {
      "model_module": "@jupyter-widgets/base",
      "model_module_version": "1.2.0",
      "model_name": "LayoutModel",
      "state": {
       "_model_module": "@jupyter-widgets/base",
       "_model_module_version": "1.2.0",
       "_model_name": "LayoutModel",
       "_view_count": null,
       "_view_module": "@jupyter-widgets/base",
       "_view_module_version": "1.2.0",
       "_view_name": "LayoutView",
       "align_content": null,
       "align_items": null,
       "align_self": null,
       "border": null,
       "bottom": null,
       "display": null,
       "flex": null,
       "flex_flow": null,
       "grid_area": null,
       "grid_auto_columns": null,
       "grid_auto_flow": null,
       "grid_auto_rows": null,
       "grid_column": null,
       "grid_gap": null,
       "grid_row": null,
       "grid_template_areas": null,
       "grid_template_columns": null,
       "grid_template_rows": null,
       "height": null,
       "justify_content": null,
       "justify_items": null,
       "left": null,
       "margin": null,
       "max_height": null,
       "max_width": null,
       "min_height": null,
       "min_width": null,
       "object_fit": null,
       "object_position": null,
       "order": null,
       "overflow": null,
       "overflow_x": null,
       "overflow_y": null,
       "padding": null,
       "right": null,
       "top": null,
       "visibility": null,
       "width": null
      }
     },
     "5cc7e590793d4608a77af5862ad36f79": {
      "model_module": "@jupyter-widgets/base",
      "model_module_version": "1.2.0",
      "model_name": "LayoutModel",
      "state": {
       "_model_module": "@jupyter-widgets/base",
       "_model_module_version": "1.2.0",
       "_model_name": "LayoutModel",
       "_view_count": null,
       "_view_module": "@jupyter-widgets/base",
       "_view_module_version": "1.2.0",
       "_view_name": "LayoutView",
       "align_content": null,
       "align_items": null,
       "align_self": null,
       "border": null,
       "bottom": null,
       "display": null,
       "flex": null,
       "flex_flow": null,
       "grid_area": null,
       "grid_auto_columns": null,
       "grid_auto_flow": null,
       "grid_auto_rows": null,
       "grid_column": null,
       "grid_gap": null,
       "grid_row": null,
       "grid_template_areas": null,
       "grid_template_columns": null,
       "grid_template_rows": null,
       "height": null,
       "justify_content": null,
       "justify_items": null,
       "left": null,
       "margin": null,
       "max_height": null,
       "max_width": null,
       "min_height": null,
       "min_width": null,
       "object_fit": null,
       "object_position": null,
       "order": null,
       "overflow": null,
       "overflow_x": null,
       "overflow_y": null,
       "padding": null,
       "right": null,
       "top": null,
       "visibility": null,
       "width": null
      }
     },
     "61bd0ddaedec490c87a1c2c0691b5cdf": {
      "model_module": "@jupyter-widgets/controls",
      "model_module_version": "1.5.0",
      "model_name": "HBoxModel",
      "state": {
       "_dom_classes": [],
       "_model_module": "@jupyter-widgets/controls",
       "_model_module_version": "1.5.0",
       "_model_name": "HBoxModel",
       "_view_count": null,
       "_view_module": "@jupyter-widgets/controls",
       "_view_module_version": "1.5.0",
       "_view_name": "HBoxView",
       "box_style": "",
       "children": [
        "IPY_MODEL_d0f6d67d22e64600b13dd7e985a78d97",
        "IPY_MODEL_f9931918938f4beebc10c98cb0328a8d",
        "IPY_MODEL_029e0fcc6b9a40019ec300c7dae8ae58"
       ],
       "layout": "IPY_MODEL_3cf4ada435f743e49390107f603721da"
      }
     },
     "66b1d659b95f4d36bb66693071d47682": {
      "model_module": "@jupyter-widgets/controls",
      "model_module_version": "1.5.0",
      "model_name": "HBoxModel",
      "state": {
       "_dom_classes": [],
       "_model_module": "@jupyter-widgets/controls",
       "_model_module_version": "1.5.0",
       "_model_name": "HBoxModel",
       "_view_count": null,
       "_view_module": "@jupyter-widgets/controls",
       "_view_module_version": "1.5.0",
       "_view_name": "HBoxView",
       "box_style": "",
       "children": [
        "IPY_MODEL_70147e63951f464d85c0f0a0117e5f9a",
        "IPY_MODEL_f53c60de703c47439a632397679b2bc4",
        "IPY_MODEL_a74aeb8dfe884be083d84234ba9e6b5c"
       ],
       "layout": "IPY_MODEL_50981b93e04b4763b8d4f27ec833e2b1"
      }
     },
     "70147e63951f464d85c0f0a0117e5f9a": {
      "model_module": "@jupyter-widgets/controls",
      "model_module_version": "1.5.0",
      "model_name": "HTMLModel",
      "state": {
       "_dom_classes": [],
       "_model_module": "@jupyter-widgets/controls",
       "_model_module_version": "1.5.0",
       "_model_name": "HTMLModel",
       "_view_count": null,
       "_view_module": "@jupyter-widgets/controls",
       "_view_module_version": "1.5.0",
       "_view_name": "HTMLView",
       "description": "",
       "description_tooltip": null,
       "layout": "IPY_MODEL_b2da10dd4a0549b185d7e89539476a32",
       "placeholder": "​",
       "style": "IPY_MODEL_746e4d97975246ea8dc4234d013f5ea0",
       "value": "Generate report structure: 100%"
      }
     },
     "7433e45670f44495a16f2ec0e280d5d1": {
      "model_module": "@jupyter-widgets/base",
      "model_module_version": "1.2.0",
      "model_name": "LayoutModel",
      "state": {
       "_model_module": "@jupyter-widgets/base",
       "_model_module_version": "1.2.0",
       "_model_name": "LayoutModel",
       "_view_count": null,
       "_view_module": "@jupyter-widgets/base",
       "_view_module_version": "1.2.0",
       "_view_name": "LayoutView",
       "align_content": null,
       "align_items": null,
       "align_self": null,
       "border": null,
       "bottom": null,
       "display": null,
       "flex": null,
       "flex_flow": null,
       "grid_area": null,
       "grid_auto_columns": null,
       "grid_auto_flow": null,
       "grid_auto_rows": null,
       "grid_column": null,
       "grid_gap": null,
       "grid_row": null,
       "grid_template_areas": null,
       "grid_template_columns": null,
       "grid_template_rows": null,
       "height": null,
       "justify_content": null,
       "justify_items": null,
       "left": null,
       "margin": null,
       "max_height": null,
       "max_width": null,
       "min_height": null,
       "min_width": null,
       "object_fit": null,
       "object_position": null,
       "order": null,
       "overflow": null,
       "overflow_x": null,
       "overflow_y": null,
       "padding": null,
       "right": null,
       "top": null,
       "visibility": null,
       "width": null
      }
     },
     "746e4d97975246ea8dc4234d013f5ea0": {
      "model_module": "@jupyter-widgets/controls",
      "model_module_version": "1.5.0",
      "model_name": "DescriptionStyleModel",
      "state": {
       "_model_module": "@jupyter-widgets/controls",
       "_model_module_version": "1.5.0",
       "_model_name": "DescriptionStyleModel",
       "_view_count": null,
       "_view_module": "@jupyter-widgets/base",
       "_view_module_version": "1.2.0",
       "_view_name": "StyleView",
       "description_width": ""
      }
     },
     "75e4b0db969b4cb790fc4a11ff223536": {
      "model_module": "@jupyter-widgets/base",
      "model_module_version": "1.2.0",
      "model_name": "LayoutModel",
      "state": {
       "_model_module": "@jupyter-widgets/base",
       "_model_module_version": "1.2.0",
       "_model_name": "LayoutModel",
       "_view_count": null,
       "_view_module": "@jupyter-widgets/base",
       "_view_module_version": "1.2.0",
       "_view_name": "LayoutView",
       "align_content": null,
       "align_items": null,
       "align_self": null,
       "border": null,
       "bottom": null,
       "display": null,
       "flex": null,
       "flex_flow": null,
       "grid_area": null,
       "grid_auto_columns": null,
       "grid_auto_flow": null,
       "grid_auto_rows": null,
       "grid_column": null,
       "grid_gap": null,
       "grid_row": null,
       "grid_template_areas": null,
       "grid_template_columns": null,
       "grid_template_rows": null,
       "height": null,
       "justify_content": null,
       "justify_items": null,
       "left": null,
       "margin": null,
       "max_height": null,
       "max_width": null,
       "min_height": null,
       "min_width": null,
       "object_fit": null,
       "object_position": null,
       "order": null,
       "overflow": null,
       "overflow_x": null,
       "overflow_y": null,
       "padding": null,
       "right": null,
       "top": null,
       "visibility": null,
       "width": null
      }
     },
     "77caaaf4f5024905b62a7b7a5615573e": {
      "model_module": "@jupyter-widgets/controls",
      "model_module_version": "1.5.0",
      "model_name": "ProgressStyleModel",
      "state": {
       "_model_module": "@jupyter-widgets/controls",
       "_model_module_version": "1.5.0",
       "_model_name": "ProgressStyleModel",
       "_view_count": null,
       "_view_module": "@jupyter-widgets/base",
       "_view_module_version": "1.2.0",
       "_view_name": "StyleView",
       "bar_color": null,
       "description_width": ""
      }
     },
     "79dffcc930f14e77a3122a50d5ba8b6b": {
      "model_module": "@jupyter-widgets/controls",
      "model_module_version": "1.5.0",
      "model_name": "HTMLModel",
      "state": {
       "_dom_classes": [],
       "_model_module": "@jupyter-widgets/controls",
       "_model_module_version": "1.5.0",
       "_model_name": "HTMLModel",
       "_view_count": null,
       "_view_module": "@jupyter-widgets/controls",
       "_view_module_version": "1.5.0",
       "_view_name": "HTMLView",
       "description": "",
       "description_tooltip": null,
       "layout": "IPY_MODEL_75e4b0db969b4cb790fc4a11ff223536",
       "placeholder": "​",
       "style": "IPY_MODEL_9e08c9b6286748109c2c53f6612c8a1a",
       "value": " 1/1 [00:05&lt;00:00,  5.36s/it]"
      }
     },
     "8101154a482742fe8edf311ec8f922c4": {
      "model_module": "@jupyter-widgets/controls",
      "model_module_version": "1.5.0",
      "model_name": "DescriptionStyleModel",
      "state": {
       "_model_module": "@jupyter-widgets/controls",
       "_model_module_version": "1.5.0",
       "_model_name": "DescriptionStyleModel",
       "_view_count": null,
       "_view_module": "@jupyter-widgets/base",
       "_view_module_version": "1.2.0",
       "_view_name": "StyleView",
       "description_width": ""
      }
     },
     "825d94254e80487c87bacb564f0cb7db": {
      "model_module": "@jupyter-widgets/base",
      "model_module_version": "1.2.0",
      "model_name": "LayoutModel",
      "state": {
       "_model_module": "@jupyter-widgets/base",
       "_model_module_version": "1.2.0",
       "_model_name": "LayoutModel",
       "_view_count": null,
       "_view_module": "@jupyter-widgets/base",
       "_view_module_version": "1.2.0",
       "_view_name": "LayoutView",
       "align_content": null,
       "align_items": null,
       "align_self": null,
       "border": null,
       "bottom": null,
       "display": null,
       "flex": null,
       "flex_flow": null,
       "grid_area": null,
       "grid_auto_columns": null,
       "grid_auto_flow": null,
       "grid_auto_rows": null,
       "grid_column": null,
       "grid_gap": null,
       "grid_row": null,
       "grid_template_areas": null,
       "grid_template_columns": null,
       "grid_template_rows": null,
       "height": null,
       "justify_content": null,
       "justify_items": null,
       "left": null,
       "margin": null,
       "max_height": null,
       "max_width": null,
       "min_height": null,
       "min_width": null,
       "object_fit": null,
       "object_position": null,
       "order": null,
       "overflow": null,
       "overflow_x": null,
       "overflow_y": null,
       "padding": null,
       "right": null,
       "top": null,
       "visibility": null,
       "width": null
      }
     },
     "99c63ba17c4345d593869fc7cad19ae8": {
      "model_module": "@jupyter-widgets/controls",
      "model_module_version": "1.5.0",
      "model_name": "ProgressStyleModel",
      "state": {
       "_model_module": "@jupyter-widgets/controls",
       "_model_module_version": "1.5.0",
       "_model_name": "ProgressStyleModel",
       "_view_count": null,
       "_view_module": "@jupyter-widgets/base",
       "_view_module_version": "1.2.0",
       "_view_name": "StyleView",
       "bar_color": null,
       "description_width": ""
      }
     },
     "9e08c9b6286748109c2c53f6612c8a1a": {
      "model_module": "@jupyter-widgets/controls",
      "model_module_version": "1.5.0",
      "model_name": "DescriptionStyleModel",
      "state": {
       "_model_module": "@jupyter-widgets/controls",
       "_model_module_version": "1.5.0",
       "_model_name": "DescriptionStyleModel",
       "_view_count": null,
       "_view_module": "@jupyter-widgets/base",
       "_view_module_version": "1.2.0",
       "_view_name": "StyleView",
       "description_width": ""
      }
     },
     "a74aeb8dfe884be083d84234ba9e6b5c": {
      "model_module": "@jupyter-widgets/controls",
      "model_module_version": "1.5.0",
      "model_name": "HTMLModel",
      "state": {
       "_dom_classes": [],
       "_model_module": "@jupyter-widgets/controls",
       "_model_module_version": "1.5.0",
       "_model_name": "HTMLModel",
       "_view_count": null,
       "_view_module": "@jupyter-widgets/controls",
       "_view_module_version": "1.5.0",
       "_view_name": "HTMLView",
       "description": "",
       "description_tooltip": null,
       "layout": "IPY_MODEL_f7294c3b3b534271a4c6546b1e498cc4",
       "placeholder": "​",
       "style": "IPY_MODEL_20af8e57c8f54432b78e0d34d87fb998",
       "value": " 1/1 [00:05&lt;00:00,  5.70s/it]"
      }
     },
     "a9b4dcbe709a43e7940675e9b4453462": {
      "model_module": "@jupyter-widgets/base",
      "model_module_version": "1.2.0",
      "model_name": "LayoutModel",
      "state": {
       "_model_module": "@jupyter-widgets/base",
       "_model_module_version": "1.2.0",
       "_model_name": "LayoutModel",
       "_view_count": null,
       "_view_module": "@jupyter-widgets/base",
       "_view_module_version": "1.2.0",
       "_view_name": "LayoutView",
       "align_content": null,
       "align_items": null,
       "align_self": null,
       "border": null,
       "bottom": null,
       "display": null,
       "flex": null,
       "flex_flow": null,
       "grid_area": null,
       "grid_auto_columns": null,
       "grid_auto_flow": null,
       "grid_auto_rows": null,
       "grid_column": null,
       "grid_gap": null,
       "grid_row": null,
       "grid_template_areas": null,
       "grid_template_columns": null,
       "grid_template_rows": null,
       "height": null,
       "justify_content": null,
       "justify_items": null,
       "left": null,
       "margin": null,
       "max_height": null,
       "max_width": null,
       "min_height": null,
       "min_width": null,
       "object_fit": null,
       "object_position": null,
       "order": null,
       "overflow": null,
       "overflow_x": null,
       "overflow_y": null,
       "padding": null,
       "right": null,
       "top": null,
       "visibility": null,
       "width": null
      }
     },
     "b2da10dd4a0549b185d7e89539476a32": {
      "model_module": "@jupyter-widgets/base",
      "model_module_version": "1.2.0",
      "model_name": "LayoutModel",
      "state": {
       "_model_module": "@jupyter-widgets/base",
       "_model_module_version": "1.2.0",
       "_model_name": "LayoutModel",
       "_view_count": null,
       "_view_module": "@jupyter-widgets/base",
       "_view_module_version": "1.2.0",
       "_view_name": "LayoutView",
       "align_content": null,
       "align_items": null,
       "align_self": null,
       "border": null,
       "bottom": null,
       "display": null,
       "flex": null,
       "flex_flow": null,
       "grid_area": null,
       "grid_auto_columns": null,
       "grid_auto_flow": null,
       "grid_auto_rows": null,
       "grid_column": null,
       "grid_gap": null,
       "grid_row": null,
       "grid_template_areas": null,
       "grid_template_columns": null,
       "grid_template_rows": null,
       "height": null,
       "justify_content": null,
       "justify_items": null,
       "left": null,
       "margin": null,
       "max_height": null,
       "max_width": null,
       "min_height": null,
       "min_width": null,
       "object_fit": null,
       "object_position": null,
       "order": null,
       "overflow": null,
       "overflow_x": null,
       "overflow_y": null,
       "padding": null,
       "right": null,
       "top": null,
       "visibility": null,
       "width": null
      }
     },
     "b33043c92b2443669b814cf0101bcf5b": {
      "model_module": "@jupyter-widgets/base",
      "model_module_version": "1.2.0",
      "model_name": "LayoutModel",
      "state": {
       "_model_module": "@jupyter-widgets/base",
       "_model_module_version": "1.2.0",
       "_model_name": "LayoutModel",
       "_view_count": null,
       "_view_module": "@jupyter-widgets/base",
       "_view_module_version": "1.2.0",
       "_view_name": "LayoutView",
       "align_content": null,
       "align_items": null,
       "align_self": null,
       "border": null,
       "bottom": null,
       "display": null,
       "flex": null,
       "flex_flow": null,
       "grid_area": null,
       "grid_auto_columns": null,
       "grid_auto_flow": null,
       "grid_auto_rows": null,
       "grid_column": null,
       "grid_gap": null,
       "grid_row": null,
       "grid_template_areas": null,
       "grid_template_columns": null,
       "grid_template_rows": null,
       "height": null,
       "justify_content": null,
       "justify_items": null,
       "left": null,
       "margin": null,
       "max_height": null,
       "max_width": null,
       "min_height": null,
       "min_width": null,
       "object_fit": null,
       "object_position": null,
       "order": null,
       "overflow": null,
       "overflow_x": null,
       "overflow_y": null,
       "padding": null,
       "right": null,
       "top": null,
       "visibility": null,
       "width": null
      }
     },
     "c31a6fc463f545109805691713b9106e": {
      "model_module": "@jupyter-widgets/controls",
      "model_module_version": "1.5.0",
      "model_name": "DescriptionStyleModel",
      "state": {
       "_model_module": "@jupyter-widgets/controls",
       "_model_module_version": "1.5.0",
       "_model_name": "DescriptionStyleModel",
       "_view_count": null,
       "_view_module": "@jupyter-widgets/base",
       "_view_module_version": "1.2.0",
       "_view_name": "StyleView",
       "description_width": ""
      }
     },
     "d0f6d67d22e64600b13dd7e985a78d97": {
      "model_module": "@jupyter-widgets/controls",
      "model_module_version": "1.5.0",
      "model_name": "HTMLModel",
      "state": {
       "_dom_classes": [],
       "_model_module": "@jupyter-widgets/controls",
       "_model_module_version": "1.5.0",
       "_model_name": "HTMLModel",
       "_view_count": null,
       "_view_module": "@jupyter-widgets/controls",
       "_view_module_version": "1.5.0",
       "_view_name": "HTMLView",
       "description": "",
       "description_tooltip": null,
       "layout": "IPY_MODEL_a9b4dcbe709a43e7940675e9b4453462",
       "placeholder": "​",
       "style": "IPY_MODEL_c31a6fc463f545109805691713b9106e",
       "value": "Summarize dataset: 100%"
      }
     },
     "e0058d9212ce41028424dac4172c97e8": {
      "model_module": "@jupyter-widgets/controls",
      "model_module_version": "1.5.0",
      "model_name": "ProgressStyleModel",
      "state": {
       "_model_module": "@jupyter-widgets/controls",
       "_model_module_version": "1.5.0",
       "_model_name": "ProgressStyleModel",
       "_view_count": null,
       "_view_module": "@jupyter-widgets/base",
       "_view_module_version": "1.2.0",
       "_view_name": "StyleView",
       "bar_color": null,
       "description_width": ""
      }
     },
     "e0593dbe5e9e40f29bee2ae304f9a5c4": {
      "model_module": "@jupyter-widgets/base",
      "model_module_version": "1.2.0",
      "model_name": "LayoutModel",
      "state": {
       "_model_module": "@jupyter-widgets/base",
       "_model_module_version": "1.2.0",
       "_model_name": "LayoutModel",
       "_view_count": null,
       "_view_module": "@jupyter-widgets/base",
       "_view_module_version": "1.2.0",
       "_view_name": "LayoutView",
       "align_content": null,
       "align_items": null,
       "align_self": null,
       "border": null,
       "bottom": null,
       "display": null,
       "flex": null,
       "flex_flow": null,
       "grid_area": null,
       "grid_auto_columns": null,
       "grid_auto_flow": null,
       "grid_auto_rows": null,
       "grid_column": null,
       "grid_gap": null,
       "grid_row": null,
       "grid_template_areas": null,
       "grid_template_columns": null,
       "grid_template_rows": null,
       "height": null,
       "justify_content": null,
       "justify_items": null,
       "left": null,
       "margin": null,
       "max_height": null,
       "max_width": null,
       "min_height": null,
       "min_width": null,
       "object_fit": null,
       "object_position": null,
       "order": null,
       "overflow": null,
       "overflow_x": null,
       "overflow_y": null,
       "padding": null,
       "right": null,
       "top": null,
       "visibility": null,
       "width": null
      }
     },
     "f53c60de703c47439a632397679b2bc4": {
      "model_module": "@jupyter-widgets/controls",
      "model_module_version": "1.5.0",
      "model_name": "FloatProgressModel",
      "state": {
       "_dom_classes": [],
       "_model_module": "@jupyter-widgets/controls",
       "_model_module_version": "1.5.0",
       "_model_name": "FloatProgressModel",
       "_view_count": null,
       "_view_module": "@jupyter-widgets/controls",
       "_view_module_version": "1.5.0",
       "_view_name": "ProgressView",
       "bar_style": "success",
       "description": "",
       "description_tooltip": null,
       "layout": "IPY_MODEL_f779a4c0cfe94ada82eafd3e694b31f4",
       "max": 1,
       "min": 0,
       "orientation": "horizontal",
       "style": "IPY_MODEL_77caaaf4f5024905b62a7b7a5615573e",
       "value": 1
      }
     },
     "f7294c3b3b534271a4c6546b1e498cc4": {
      "model_module": "@jupyter-widgets/base",
      "model_module_version": "1.2.0",
      "model_name": "LayoutModel",
      "state": {
       "_model_module": "@jupyter-widgets/base",
       "_model_module_version": "1.2.0",
       "_model_name": "LayoutModel",
       "_view_count": null,
       "_view_module": "@jupyter-widgets/base",
       "_view_module_version": "1.2.0",
       "_view_name": "LayoutView",
       "align_content": null,
       "align_items": null,
       "align_self": null,
       "border": null,
       "bottom": null,
       "display": null,
       "flex": null,
       "flex_flow": null,
       "grid_area": null,
       "grid_auto_columns": null,
       "grid_auto_flow": null,
       "grid_auto_rows": null,
       "grid_column": null,
       "grid_gap": null,
       "grid_row": null,
       "grid_template_areas": null,
       "grid_template_columns": null,
       "grid_template_rows": null,
       "height": null,
       "justify_content": null,
       "justify_items": null,
       "left": null,
       "margin": null,
       "max_height": null,
       "max_width": null,
       "min_height": null,
       "min_width": null,
       "object_fit": null,
       "object_position": null,
       "order": null,
       "overflow": null,
       "overflow_x": null,
       "overflow_y": null,
       "padding": null,
       "right": null,
       "top": null,
       "visibility": null,
       "width": null
      }
     },
     "f779a4c0cfe94ada82eafd3e694b31f4": {
      "model_module": "@jupyter-widgets/base",
      "model_module_version": "1.2.0",
      "model_name": "LayoutModel",
      "state": {
       "_model_module": "@jupyter-widgets/base",
       "_model_module_version": "1.2.0",
       "_model_name": "LayoutModel",
       "_view_count": null,
       "_view_module": "@jupyter-widgets/base",
       "_view_module_version": "1.2.0",
       "_view_name": "LayoutView",
       "align_content": null,
       "align_items": null,
       "align_self": null,
       "border": null,
       "bottom": null,
       "display": null,
       "flex": null,
       "flex_flow": null,
       "grid_area": null,
       "grid_auto_columns": null,
       "grid_auto_flow": null,
       "grid_auto_rows": null,
       "grid_column": null,
       "grid_gap": null,
       "grid_row": null,
       "grid_template_areas": null,
       "grid_template_columns": null,
       "grid_template_rows": null,
       "height": null,
       "justify_content": null,
       "justify_items": null,
       "left": null,
       "margin": null,
       "max_height": null,
       "max_width": null,
       "min_height": null,
       "min_width": null,
       "object_fit": null,
       "object_position": null,
       "order": null,
       "overflow": null,
       "overflow_x": null,
       "overflow_y": null,
       "padding": null,
       "right": null,
       "top": null,
       "visibility": null,
       "width": null
      }
     },
     "f9931918938f4beebc10c98cb0328a8d": {
      "model_module": "@jupyter-widgets/controls",
      "model_module_version": "1.5.0",
      "model_name": "FloatProgressModel",
      "state": {
       "_dom_classes": [],
       "_model_module": "@jupyter-widgets/controls",
       "_model_module_version": "1.5.0",
       "_model_name": "FloatProgressModel",
       "_view_count": null,
       "_view_module": "@jupyter-widgets/controls",
       "_view_module_version": "1.5.0",
       "_view_name": "ProgressView",
       "bar_style": "success",
       "description": "",
       "description_tooltip": null,
       "layout": "IPY_MODEL_e0593dbe5e9e40f29bee2ae304f9a5c4",
       "max": 5,
       "min": 0,
       "orientation": "horizontal",
       "style": "IPY_MODEL_99c63ba17c4345d593869fc7cad19ae8",
       "value": 5
      }
     }
    },
    "version_major": 2,
    "version_minor": 0
   }
  }
 },
 "nbformat": 4,
 "nbformat_minor": 5
}
